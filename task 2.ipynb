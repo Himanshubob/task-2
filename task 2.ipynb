{
 "cells": [
  {
   "cell_type": "markdown",
   "id": "8f00df71",
   "metadata": {},
   "source": [
    "# Q2  solve the below _given Question using at least one of the following :"
   ]
  },
  {
   "cell_type": "markdown",
   "id": "7aceec1d",
   "metadata": {},
   "source": [
    "# 1 lambda function 2.filter function 3. mao function 4. list comperhension"
   ]
  },
  {
   "cell_type": "markdown",
   "id": "31841c31",
   "metadata": {},
   "source": [
    "# Sort a list of integers into positive and negative integers lists."
   ]
  },
  {
   "cell_type": "code",
   "execution_count": 18,
   "id": "5e524302",
   "metadata": {},
   "outputs": [],
   "source": [
    "# list sort \n",
    "l=[1,2,3,4,5,6,-1,-2,-3,-4,-5,0]"
   ]
  },
  {
   "cell_type": "code",
   "execution_count": 19,
   "id": "c02aa03f",
   "metadata": {},
   "outputs": [
    {
     "data": {
      "text/plain": [
       "[-1, -2, -3, -4, -5, 0, 1, 2, 3, 4, 5, 6]"
      ]
     },
     "execution_count": 19,
     "metadata": {},
     "output_type": "execute_result"
    }
   ],
   "source": [
    "list(filter(lambda x:x<=0, l))+ list(filter ( lambda x:x>0,l))"
   ]
  },
  {
   "cell_type": "code",
   "execution_count": 20,
   "id": "040f34dd",
   "metadata": {},
   "outputs": [],
   "source": [
    "#list odd number\n",
    "l1=[1,2,3,4,5,6,7,8,9,10]\n"
   ]
  },
  {
   "cell_type": "code",
   "execution_count": 21,
   "id": "5bbef0a6",
   "metadata": {},
   "outputs": [
    {
     "data": {
      "text/plain": [
       "[1, 3, 5, 7, 9]"
      ]
     },
     "execution_count": 21,
     "metadata": {},
     "output_type": "execute_result"
    }
   ],
   "source": [
    "list(filter(lambda x: x%2 !=0,l1))"
   ]
  },
  {
   "cell_type": "code",
   "execution_count": 23,
   "id": "44b70138",
   "metadata": {},
   "outputs": [],
   "source": [
    "#Check if a given number is even\n",
    "l2=[]\n",
    "for i in range(10):\n",
    "    l2.append(i)"
   ]
  },
  {
   "cell_type": "code",
   "execution_count": 24,
   "id": "36441c8e",
   "metadata": {},
   "outputs": [
    {
     "data": {
      "text/plain": [
       "[0, 1, 2, 3, 4, 5, 6, 7, 8, 9]"
      ]
     },
     "execution_count": 24,
     "metadata": {},
     "output_type": "execute_result"
    }
   ],
   "source": [
    "l2"
   ]
  },
  {
   "cell_type": "code",
   "execution_count": 25,
   "id": "09ac56fc",
   "metadata": {},
   "outputs": [
    {
     "data": {
      "text/plain": [
       "[0, 2, 4, 6, 8]"
      ]
     },
     "execution_count": 25,
     "metadata": {},
     "output_type": "execute_result"
    }
   ],
   "source": [
    "list(filter( lambda x:x%2==0, l2))"
   ]
  },
  {
   "cell_type": "code",
   "execution_count": 26,
   "id": "bf7eaa9e",
   "metadata": {},
   "outputs": [
    {
     "data": {
      "text/plain": [
       "[0, 1, 2, 3, 4, 5, 6, 7, 8, 9]"
      ]
     },
     "execution_count": 26,
     "metadata": {},
     "output_type": "execute_result"
    }
   ],
   "source": [
    "# Find the cube root of numbers from 1 to 10\n",
    "l2"
   ]
  },
  {
   "cell_type": "code",
   "execution_count": 30,
   "id": "409e99b0",
   "metadata": {},
   "outputs": [
    {
     "data": {
      "text/plain": [
       "[0, 1, 8, 27, 64, 125, 216, 343, 512, 729]"
      ]
     },
     "execution_count": 30,
     "metadata": {},
     "output_type": "execute_result"
    }
   ],
   "source": [
    "list(map(lambda x: x**3,l2))"
   ]
  },
  {
   "cell_type": "code",
   "execution_count": 31,
   "id": "e882907c",
   "metadata": {},
   "outputs": [
    {
     "data": {
      "text/plain": [
       "[0, 1, 2, 3, 4, 5, 6, 7, 8, 9]"
      ]
     },
     "execution_count": 31,
     "metadata": {},
     "output_type": "execute_result"
    }
   ],
   "source": [
    "#Find the squares of numbers from 1 to 10\n",
    "l2"
   ]
  },
  {
   "cell_type": "code",
   "execution_count": 32,
   "id": "ae7c69ef",
   "metadata": {},
   "outputs": [
    {
     "data": {
      "text/plain": [
       "[0, 1, 4, 9, 16, 25, 36, 49, 64, 81]"
      ]
     },
     "execution_count": 32,
     "metadata": {},
     "output_type": "execute_result"
    }
   ],
   "source": [
    "list(map(lambda x:x**2,l2))"
   ]
  },
  {
   "cell_type": "code",
   "execution_count": 3,
   "id": "79b4c60f",
   "metadata": {},
   "outputs": [],
   "source": [
    "#Sort a list of tuples having fruit names and their quantity.\n",
    "l3=[(\"mango\",99),(\"orange\",80), (\"grapes\", 1000)]"
   ]
  },
  {
   "cell_type": "code",
   "execution_count": 4,
   "id": "388614d3",
   "metadata": {},
   "outputs": [
    {
     "data": {
      "text/plain": [
       "[('mango', 99), ('orange', 80), ('grapes', 1000)]"
      ]
     },
     "execution_count": 4,
     "metadata": {},
     "output_type": "execute_result"
    }
   ],
   "source": [
    "l3"
   ]
  },
  {
   "cell_type": "code",
   "execution_count": 7,
   "id": "96644f68",
   "metadata": {},
   "outputs": [],
   "source": [
    "l4=[]\n",
    "for i in l3:\n",
    "    if type(i)==tuple:\n",
    "        for j in i:\n",
    "            if type(j)==int:\n",
    "                l4.append(j)\n",
    "    else:\n",
    "        for j in i: \n",
    "            if type(j)==str:\n",
    "                l4.append(j)\n",
    "                  "
   ]
  },
  {
   "cell_type": "code",
   "execution_count": 8,
   "id": "28a43091",
   "metadata": {},
   "outputs": [
    {
     "data": {
      "text/plain": [
       "[99, 80, 1000]"
      ]
     },
     "execution_count": 8,
     "metadata": {},
     "output_type": "execute_result"
    }
   ],
   "source": [
    "l4"
   ]
  },
  {
   "cell_type": "markdown",
   "id": "60844ea9",
   "metadata": {},
   "source": [
    "# Q1..Q1. You are writing code for a company. The requirement of the company is that you create a python function that will check whether the password entered by the user is correct or not. The function should take the password as input and return the string “Valid Password” if the entered password follows the below-given password guidelines else it should return “Invalid Password”. Note: 1. The Password should contain at least two uppercase letters and at least two lowercase letters. 2. The Password should contain at least a number and three special characters. 3. The length of the password should be 10 characters long."
   ]
  },
  {
   "cell_type": "code",
   "execution_count": 12,
   "id": "e4ac7d3f",
   "metadata": {},
   "outputs": [],
   "source": [
    "def cheak_password(password):\n",
    "    upper=0\n",
    "    lower=0\n",
    "    number=0\n",
    "    special=0\n",
    "    for char in password:\n",
    "        if char.isupper():\n",
    "            upper+=1\n",
    "        elif char.islower():\n",
    "            lower+=1\n",
    "        elif char.isdigit():\n",
    "            number+=1\n",
    "        elif char in \"!@#$%^&*()~_+\":\n",
    "            special+=1\n",
    "        if upper>=2 and lower >=2 and number>=1 and special>= 3 and len( password)==10:\n",
    "            return \"valid password\"\n",
    "        else:\n",
    "            return \"invalid password\""
   ]
  },
  {
   "cell_type": "code",
   "execution_count": 13,
   "id": "6572e2d4",
   "metadata": {},
   "outputs": [
    {
     "name": "stdout",
     "output_type": "stream",
     "text": [
      "enter the password:@#himanshu2\n",
      "invalid password\n"
     ]
    }
   ],
   "source": [
    "n=str(input(\"enter the password:\"))\n",
    "t=cheak_password(n)\n",
    "print(t)"
   ]
  },
  {
   "cell_type": "code",
   "execution_count": null,
   "id": "e4f8b872",
   "metadata": {},
   "outputs": [],
   "source": []
  }
 ],
 "metadata": {
  "kernelspec": {
   "display_name": "Python 3 (ipykernel)",
   "language": "python",
   "name": "python3"
  },
  "language_info": {
   "codemirror_mode": {
    "name": "ipython",
    "version": 3
   },
   "file_extension": ".py",
   "mimetype": "text/x-python",
   "name": "python",
   "nbconvert_exporter": "python",
   "pygments_lexer": "ipython3",
   "version": "3.10.9"
  }
 },
 "nbformat": 4,
 "nbformat_minor": 5
}
